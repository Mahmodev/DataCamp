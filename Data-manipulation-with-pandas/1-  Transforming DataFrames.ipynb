{
 "cells": [
  {
   "cell_type": "markdown",
   "metadata": {},
   "source": [
    "<h2 class=\"css-1sl3ts5\">1. Introduction to pandas DataFrames</h2>\n",
    "<div><h2 class=\"css-1sl3ts5\">2. What's the point of pandas?</h2><p>pandas is a Python package for data manipulation. It can also be used for data visualization; we'll get to that in Chapter 4.\n",
    "\n",
    "</p></div><div><h2 class=\"css-1sl3ts5\">3. Course outline</h2><p>We'll start by talking about DataFrames, which form the core of pandas.\n",
    "\n",
    "In chapter 2, we'll discuss aggregating data to gather insights.\n",
    "\n",
    "In chapter 3, you'll learn all about slicing and indexing to subset DataFrames.\n",
    "\n",
    "Finally, you'll visualize your data, deal with missing data, and read data into a DataFrame.\n",
    "\n",
    "Let's dive in.\n",
    "\n",
    "</p></div><div><h2 class=\"css-1sl3ts5\">4. pandas is built on NumPy and Matplotlib</h2><p>pandas is built on top of two essential Python packages, NumPy and Matplotlib. Numpy provides multidimensional array objects for easy data manipulation that pandas uses to store data, and Matplotlib has powerful data visualization capabilities that pandas takes advantage of.\n",
    "\n",
    "</p></div><div><h2 class=\"css-1sl3ts5\">5. pandas is popular</h2><p>pandas has millions of users, with PyPi recording about 14 million downloads in December 2019. This represents almost the entire Python data science community!\n",
    "\n",
    "</p><ol class=\"css-lsly4i\"><li><sup>1</sup> https://pypistats.org/packages/pandas</li></ol></div><div><h2 class=\"css-1sl3ts5\">6. Rectangular data</h2><p>There are several ways to store data for analysis, but rectangular data, sometimes called \"tabular data\" is the most common form. In this example, with dogs, each observation, or each dog, is a row, and each variable, or each dog property, is a column. pandas is designed to work with rectangular data like this.\n",
    "\n",
    "</p></div><div><h2 class=\"css-1sl3ts5\">7. pandas DataFrames</h2><p>In pandas, rectangular data is represented as a DataFrame object. Every programming language used for data analysis has something similar to this. R also has DataFrames, while SQL has database tables. Every value within a column has the same data type, either text or numeric, but different columns can contain different data types.\n",
    "\n",
    "</p></div><div><h2 class=\"css-1sl3ts5\">8. Exploring a DataFrame: .head()</h2><p>When you first receive a new dataset, you want to quickly explore it and get a sense of its contents. pandas has several methods for this. \n",
    "\n",
    "The first is head, which returns the first few rows of the DataFrame. We only had seven rows to begin with, so it's not super exciting, but this becomes very useful if you have many rows.\n",
    "\n",
    "</p></div><div><h2 class=\"css-1sl3ts5\">9. Exploring a DataFrame: .info()</h2><p>The info method displays the names of columns, the data types they contain, and whether they have any missing values.\n",
    "\n",
    "</p></div><div><h2 class=\"css-1sl3ts5\">10. Exploring a DataFrame: .shape</h2><p>A DataFrame's shape attribute contains a tuple that holds the number of rows followed by the number of columns. Since this is an attribute instead of a method, you write it without parentheses.\n",
    "\n",
    "</p></div><div><h2 class=\"css-1sl3ts5\">11. Exploring a DataFrame: .describe()</h2><p>The describe method computes some summary statistics for numerical columns, like mean and median. \"count\" is the number of non-missing values in each column. describe is good for a quick overview of numeric variables, but if you want more control, you'll see how to perform more specific calculations later in the course.\n",
    "\n",
    "</p></div><div><h2 class=\"css-1sl3ts5\">12. Components of a DataFrame: .values</h2><p>DataFrames consist of three different components, accessible using attributes.\n",
    "\n",
    "The values attribute, as you might expect, contains the data values in a 2-dimensional NumPy array.\n",
    "\n",
    "</p></div><div><h2 class=\"css-1sl3ts5\">13. Components of a DataFrame: .columns and .index</h2><p>The other two components of a DataFrame are labels for columns and rows. The columns attribute contains column names, and the index attribute contains row numbers or row names. Be careful, since row labels are stored in dot-index, not in dot-rows.\n",
    "\n",
    "Notice that these are Index objects, which we'll cover in Chapter 3. This allows for flexibility in labels. For example, the dogs data uses row numbers, but row names are also possible.\n",
    "\n",
    "</p></div><div><h2 class=\"css-1sl3ts5\">14. pandas Philosophy</h2><p>Python has a semi-official philosophy on how to write good code called The Zen of Python. One suggestion is that given a programming problem, there should only be one obvious solution. As you go through this course, bear in mind that pandas deliberately doesn't follow this philosophy. Instead, there are often multiple ways to solve a problem, leaving you to choose the best. \n",
    "\n",
    "In this respect, pandas is like a Swiss Army Knife, giving you a variety of tools, making it incredibly powerful, but more difficult to learn. In this course, we aim for a more streamlined approach to pandas, only covering the most important ways of doing things.\n",
    "\n"
   ]
  },
  {
   "cell_type": "markdown",
   "metadata": {},
   "source": [
    "<div class=\"listview__content\"><div class=\"exercise--assignment exercise--typography\"><h1 class=\"exercise--title\">1- Inspecting a DataFrame</h1><div class=\"\">\n",
    "<p>When you get a new DataFrame to work with, the first thing you need to do is explore it and see what it contains. There are several useful methods and attributes for this.</p>\n",
    "<ul>\n",
    "<li><code>.head()</code> returns the first few rows (the “head” of the DataFrame).</li>\n",
    "<li><code>.info()</code> shows information on each of the columns, such as the data type and number of missing values.</li>\n",
    "<li><code>.shape</code> returns the number of rows and columns of the DataFrame.</li>\n",
    "<li><code>.describe()</code> calculates a few summary statistics for each column.</li>\n",
    "</ul>\n",
    "<p><code>homelessness</code> is a DataFrame containing estimates of homelessness in each U.S. state in 2018. The <code>individual</code> column is the number of homeless individuals not part of a family with children. The <code>family_members</code> column is the number of homeless individuals part of a family with children. The <code>state_pop</code> column is the state's total population.</p>\n",
    "</div></div></div>\n",
    "\n",
    "<li> Print the head of the homelessness DataFrame.</li>\n",
    "<li>Print information about the column types and missing values in <code>homelessness</code>.</li>\n",
    "<li>Print the number of rows and columns in <code>homelessness</code>.</li>\n",
    "<li>Print some summary statistics that describe the <code>homelessness</code> DataFrame.</li>"
   ]
  },
  {
   "cell_type": "code",
   "execution_count": 2,
   "metadata": {},
   "outputs": [
    {
     "name": "stdout",
     "output_type": "stream",
     "text": [
      "   Unnamed: 0              region       state  individuals  family_members  \\\n",
      "0           0  East South Central     Alabama       2570.0           864.0   \n",
      "1           1             Pacific      Alaska       1434.0           582.0   \n",
      "2           2            Mountain     Arizona       7259.0          2606.0   \n",
      "3           3  West South Central    Arkansas       2280.0           432.0   \n",
      "4           4             Pacific  California     109008.0         20964.0   \n",
      "\n",
      "   state_pop  \n",
      "0    4887681  \n",
      "1     735139  \n",
      "2    7158024  \n",
      "3    3009733  \n",
      "4   39461588  \n",
      "<class 'pandas.core.frame.DataFrame'>\n",
      "RangeIndex: 51 entries, 0 to 50\n",
      "Data columns (total 6 columns):\n",
      "Unnamed: 0        51 non-null int64\n",
      "region            51 non-null object\n",
      "state             51 non-null object\n",
      "individuals       51 non-null float64\n",
      "family_members    51 non-null float64\n",
      "state_pop         51 non-null int64\n",
      "dtypes: float64(2), int64(2), object(2)\n",
      "memory usage: 2.5+ KB\n",
      "None\n",
      "(51, 6)\n",
      "       Unnamed: 0    individuals  family_members     state_pop\n",
      "count   51.000000      51.000000       51.000000  5.100000e+01\n",
      "mean    25.000000    7225.784314     3504.882353  6.405637e+06\n",
      "std     14.866069   15991.025083     7805.411811  7.327258e+06\n",
      "min      0.000000     434.000000       75.000000  5.776010e+05\n",
      "25%     12.500000    1446.500000      592.000000  1.777414e+06\n",
      "50%     25.000000    3082.000000     1482.000000  4.461153e+06\n",
      "75%     37.500000    6781.500000     3196.000000  7.340946e+06\n",
      "max     50.000000  109008.000000    52070.000000  3.946159e+07\n"
     ]
    }
   ],
   "source": [
    "import pandas as pd\n",
    "homelessness = pd.read_csv('datasets/homelessness.csv')\n",
    "# Print the head of the homelessness data\n",
    "print(homelessness.head())\n",
    "\n",
    "# Print information about homelessness\n",
    "print(homelessness.info())\n",
    "\n",
    "# Print the shape of homelessness\n",
    "print(homelessness.shape)\n",
    "\n",
    "# Print a description of homelessness\n",
    "print(homelessness.describe())"
   ]
  },
  {
   "cell_type": "markdown",
   "metadata": {},
   "source": [
    "<h1 class=\"exercise--title\">2- Parts of a DataFrame</h1><div class=\"\">\n",
    "<p>To better understand DataFrame objects, it's useful to know that they consist of three components, stored as attributes:</p>\n",
    "<ul>\n",
    "<li><code>.values</code>: A two-dimensional NumPy array of values.</li>\n",
    "<li><code>.columns</code>: An index of columns: the column names.</li>\n",
    "<li><code>.index</code>: An index for the rows: either row numbers or row names.</li>\n",
    "</ul>\n",
    "<p>You can usually think of indexes as a list of strings or numbers, though the pandas <code>Index</code> data type allows for more sophisticated options. (These will be covered later in the course.)</p>\n",
    "<p><code>homelessness</code> is available.</p></div></div></div></div><div class=\"listview__section\" style=\"min-height: calc(100% - 33px);\"><div><div role=\"button\" class=\"listview__header\"><div class=\"exercise--sidebar-header\"><h5 class=\"dc-panel__title\"><svg aria-label=\"checkmark_circle icon\" class=\"dc-icon-checkmark_circle dc-u-color-navy dc-u-mr-8\" fill=\"currentColor\" height=\"12\" role=\"Img\" width=\"12\"><use xlink:href=\"/campus/static/media/symbols.e369b265.svg#checkmark_circle\"></use></svg>Instructions</h5>\n",
    "\n",
    "<li>Print a 2D NumPy array of the values in <code>homelessness</code>.</li>\n",
    "<li>Print the column names of <code>homelessness</code>.</li>\n",
    "<li>Print the index of <code>homelessness</code>.</li>\n",
    "</ul></div></div></div></div></div></div></div></div></div></aside>"
   ]
  },
  {
   "cell_type": "code",
   "execution_count": 8,
   "metadata": {
    "scrolled": true
   },
   "outputs": [
    {
     "name": "stdout",
     "output_type": "stream",
     "text": [
      "[[0 'East South Central' 'Alabama' 2570.0 864.0 4887681]\n",
      " [1 'Pacific' 'Alaska' 1434.0 582.0 735139]\n",
      " [2 'Mountain' 'Arizona' 7259.0 2606.0 7158024]\n",
      " [3 'West South Central' 'Arkansas' 2280.0 432.0 3009733]\n",
      " [4 'Pacific' 'California' 109008.0 20964.0 39461588]\n",
      " [5 'Mountain' 'Colorado' 7607.0 3250.0 5691287]\n",
      " [6 'New England' 'Connecticut' 2280.0 1696.0 3571520]\n",
      " [7 'South Atlantic' 'Delaware' 708.0 374.0 965479]\n",
      " [8 'South Atlantic' 'District of Columbia' 3770.0 3134.0 701547]\n",
      " [9 'South Atlantic' 'Florida' 21443.0 9587.0 21244317]\n",
      " [10 'South Atlantic' 'Georgia' 6943.0 2556.0 10511131]\n",
      " [11 'Pacific' 'Hawaii' 4131.0 2399.0 1420593]\n",
      " [12 'Mountain' 'Idaho' 1297.0 715.0 1750536]\n",
      " [13 'East North Central' 'Illinois' 6752.0 3891.0 12723071]\n",
      " [14 'East North Central' 'Indiana' 3776.0 1482.0 6695497]\n",
      " [15 'West North Central' 'Iowa' 1711.0 1038.0 3148618]\n",
      " [16 'West North Central' 'Kansas' 1443.0 773.0 2911359]\n",
      " [17 'East South Central' 'Kentucky' 2735.0 953.0 4461153]\n",
      " [18 'West South Central' 'Louisiana' 2540.0 519.0 4659690]\n",
      " [19 'New England' 'Maine' 1450.0 1066.0 1339057]\n",
      " [20 'South Atlantic' 'Maryland' 4914.0 2230.0 6035802]\n",
      " [21 'New England' 'Massachusetts' 6811.0 13257.0 6882635]\n",
      " [22 'East North Central' 'Michigan' 5209.0 3142.0 9984072]\n",
      " [23 'West North Central' 'Minnesota' 3993.0 3250.0 5606249]\n",
      " [24 'East South Central' 'Mississippi' 1024.0 328.0 2981020]\n",
      " [25 'West North Central' 'Missouri' 3776.0 2107.0 6121623]\n",
      " [26 'Mountain' 'Montana' 983.0 422.0 1060665]\n",
      " [27 'West North Central' 'Nebraska' 1745.0 676.0 1925614]\n",
      " [28 'Mountain' 'Nevada' 7058.0 486.0 3027341]\n",
      " [29 'New England' 'New Hampshire' 835.0 615.0 1353465]\n",
      " [30 'Mid-Atlantic' 'New Jersey' 6048.0 3350.0 8886025]\n",
      " [31 'Mountain' 'New Mexico' 1949.0 602.0 2092741]\n",
      " [32 'Mid-Atlantic' 'New York' 39827.0 52070.0 19530351]\n",
      " [33 'South Atlantic' 'North Carolina' 6451.0 2817.0 10381615]\n",
      " [34 'West North Central' 'North Dakota' 467.0 75.0 758080]\n",
      " [35 'East North Central' 'Ohio' 6929.0 3320.0 11676341]\n",
      " [36 'West South Central' 'Oklahoma' 2823.0 1048.0 3940235]\n",
      " [37 'Pacific' 'Oregon' 11139.0 3337.0 4181886]\n",
      " [38 'Mid-Atlantic' 'Pennsylvania' 8163.0 5349.0 12800922]\n",
      " [39 'New England' 'Rhode Island' 747.0 354.0 1058287]\n",
      " [40 'South Atlantic' 'South Carolina' 3082.0 851.0 5084156]\n",
      " [41 'West North Central' 'South Dakota' 836.0 323.0 878698]\n",
      " [42 'East South Central' 'Tennessee' 6139.0 1744.0 6771631]\n",
      " [43 'West South Central' 'Texas' 19199.0 6111.0 28628666]\n",
      " [44 'Mountain' 'Utah' 1904.0 972.0 3153550]\n",
      " [45 'New England' 'Vermont' 780.0 511.0 624358]\n",
      " [46 'South Atlantic' 'Virginia' 3928.0 2047.0 8501286]\n",
      " [47 'Pacific' 'Washington' 16424.0 5880.0 7523869]\n",
      " [48 'South Atlantic' 'West Virginia' 1021.0 222.0 1804291]\n",
      " [49 'East North Central' 'Wisconsin' 2740.0 2167.0 5807406]\n",
      " [50 'Mountain' 'Wyoming' 434.0 205.0 577601]]\n",
      "Index(['Unnamed: 0', 'region', 'state', 'individuals', 'family_members',\n",
      "       'state_pop'],\n",
      "      dtype='object')\n",
      "RangeIndex(start=0, stop=51, step=1)\n"
     ]
    }
   ],
   "source": [
    "# Print the values of homelessness\n",
    "print(homelessness.values)\n",
    "\n",
    "# Print the column index of homelessness\n",
    "print(homelessness.columns)\n",
    "\n",
    "# Print the row index of homelessness\n",
    "print (homelessness.index)"
   ]
  },
  {
   "cell_type": "markdown",
   "metadata": {},
   "source": [
    "<div class=\"listview__content\"><div class=\"exercise--assignment exercise--typography\"><h1 class=\"exercise--title\">Sorting rows</h1><div class=\"\">\n",
    "<p>Finding interesting bits of data in a DataFrame is often easier if you change the order of the rows. You can sort the rows by passing a column name to <code>.sort_values()</code>.</p>\n",
    "<p>In cases where rows have the same value (this is common if you sort on a categorical variable), you may wish to break the ties by sorting on another column. You can sort on multiple columns in this way by passing a list of column names.</p>\n",
    "<table>\n",
    "<thead>\n",
    "<tr>\n",
    "<th>Sort on …</th>\n",
    "<th>Syntax</th>\n",
    "</tr>\n",
    "</thead>\n",
    "<tbody>\n",
    "<tr>\n",
    "<td>one column</td>\n",
    "<td><code>df.sort_values(\"breed\")</code></td>\n",
    "</tr>\n",
    "<tr>\n",
    "<td>multiple columns</td>\n",
    "<td><code>df.sort_values([\"breed\", \"weight_kg\"])</code></td>\n",
    "</tr>\n",
    "</tbody>\n",
    "</table>\n",
    "<p>By combining <code>.sort_values()</code> with <code>.head()</code>, you can answer questions in the form, \"What are the top cases where…?\".</p>\n",
    "<p><code>homelessness</code> is available and <code>pandas</code> is loaded as <code>pd</code>.</p></div></div></div>"
   ]
  },
  {
   "cell_type": "markdown",
   "metadata": {},
   "source": [
    "<h1 class=\"exercise--title\">Instructions</h1>\n",
    "<div class=\"listview__content\"><div><div class=\"instructions--bullet bullet-steps\"><div class=\"bullet-instructions-list\"><ul><li class=\"bullet-instruction instruction--completed active--instruction\"><div class=\"subexercise-tab\"><div class=\"tab-line\"></div><div style=\"position: relative;\"><a href=\"javascript:void(0)\" class=\"active-tab completed\"><svg aria-label=\"checkmark icon\" class=\"dc-icon-checkmark\" fill=\"currentColor\" height=\"8\" role=\"Img\" width=\"8\"><use xlink:href=\"/campus/static/media/symbols.e369b265.svg#checkmark\"></use></svg></a></div></div><div class=\"bullet-instructions-list__instruction-content\"><div class=\"exercise--instructions exercise--typography\"><div class=\"exercise--instructions__content\"><ul>\n",
    "<li>Sort <code>homelessness</code> by the number of homeless individuals, from smallest to largest, and save this as <code>homelessness_ind</code>.</li>\n",
    "<li>Print the head of the sorted DataFrame.</li>\n",
    "</ul></div><div style=\"margin: 16px -15px 0px;\"><section class=\"dc-sct-feedback\" tabindex=\"-1\"><div></div><nav class=\"dc-sct-feedback__nav\"><div class=\"css-6is1tf\"></div></nav></section></div></div></div></li><li class=\"bullet-instruction clickable-tab instruction--completed\"><div class=\"subexercise-tab\"><div class=\"tab-line\"></div><div style=\"position: relative;\"><a href=\"javascript:void(0)\" class=\"completed\"><svg aria-label=\"checkmark icon\" class=\"dc-icon-checkmark\" fill=\"currentColor\" height=\"8\" role=\"Img\" width=\"8\"><use xlink:href=\"/campus/static/media/symbols.e369b265.svg#checkmark\"></use></svg></a></div></div><div class=\"bullet-instructions-list__instruction-content\"><div class=\"exercise--instructions exercise--typography\"><div class=\"exercise--instructions__content\"><ul>\n",
    "<li>Sort <code>homelessness</code> by the number of homeless <code>family_members</code> in descending order, and save this as <code>homelessness_fam</code>.</li>\n",
    "<li>Print the head of the sorted DataFrame.</li>\n",
    "</ul></div></div></div></li><li class=\"bullet-instruction clickable-tab instruction--completed\"><div class=\"subexercise-tab\"><div class=\"tab-line\"></div><div style=\"position: relative;\"><a href=\"javascript:void(0)\" class=\"completed\"><svg aria-label=\"checkmark icon\" class=\"dc-icon-checkmark\" fill=\"currentColor\" height=\"8\" role=\"Img\" width=\"8\"><use xlink:href=\"/campus/static/media/symbols.e369b265.svg#checkmark\"></use></svg></a></div></div><div class=\"bullet-instructions-list__instruction-content\"><div class=\"exercise--instructions exercise--typography\"><div class=\"exercise--instructions__content\"><ul>\n",
    "<li>Sort <code>homelessness</code> first by region (ascending), and then by number of family members (descending). Save this as <code>homelessness_reg_fam</code>.</li>\n",
    "<li>Print the head of the sorted DataFrame.</li>\n",
    "</ul></div></div></div></li></ul></div></div></div></div>"
   ]
  },
  {
   "cell_type": "code",
   "execution_count": 3,
   "metadata": {},
   "outputs": [
    {
     "name": "stdout",
     "output_type": "stream",
     "text": [
      "    Unnamed: 0              region         state  individuals  family_members  \\\n",
      "50          50            Mountain       Wyoming        434.0           205.0   \n",
      "34          34  West North Central  North Dakota        467.0            75.0   \n",
      "7            7      South Atlantic      Delaware        708.0           374.0   \n",
      "39          39         New England  Rhode Island        747.0           354.0   \n",
      "45          45         New England       Vermont        780.0           511.0   \n",
      "\n",
      "    state_pop  \n",
      "50     577601  \n",
      "34     758080  \n",
      "7      965479  \n",
      "39    1058287  \n",
      "45     624358  \n"
     ]
    }
   ],
   "source": [
    "# Sort homelessness by individual\n",
    "homelessness_ind = homelessness.sort_values('individuals')\n",
    "\n",
    "# Print the top few rows\n",
    "print(homelessness_ind.head())"
   ]
  },
  {
   "cell_type": "markdown",
   "metadata": {},
   "source": [
    "<div class=\"exercise--assignment exercise--typography\"><h1 class=\"exercise--title\">Subsetting columns</h1><div class=\"\">\n",
    "<p>When working with data, you may not need all of the variables in your dataset. Square brackets (<code>[]</code>) can be used to select only the columns that matter to you in an order that makes sense to you.\n",
    "To select only <code>\"col_a\"</code> of the DataFrame <code>df</code>, use</p>\n",
    "<pre><code>df[\"col_a\"]\n",
    "</code></pre>\n",
    "<p>To select <code>\"col_a\"</code> and <code>\"col_b\"</code> of <code>df</code>, use</p>\n",
    "<pre><code>df[[\"col_a\", \"col_b\"]]\n",
    "</code></pre>\n",
    "<p><code>homelessness</code> is available and <code>pandas</code> is loaded as <code>pd</code>.</p></div></div>"
   ]
  },
  {
   "cell_type": "markdown",
   "metadata": {},
   "source": [
    "<h1>Instrcutions</h1>\n",
    "<div class=\"listview__content\"><div><div class=\"instructions--bullet bullet-steps\"><div class=\"bullet-instructions-list\"><ul><li class=\"bullet-instruction instruction--completed active--instruction\"><div class=\"subexercise-tab\"><div class=\"tab-line\"></div><div style=\"position: relative;\"><a href=\"javascript:void(0)\" class=\"active-tab completed\"><svg aria-label=\"checkmark icon\" class=\"dc-icon-checkmark\" fill=\"currentColor\" height=\"8\" role=\"Img\" width=\"8\"><use xlink:href=\"/campus/static/media/symbols.e369b265.svg#checkmark\"></use></svg></a></div></div><div class=\"bullet-instructions-list__instruction-content\"><div class=\"exercise--instructions exercise--typography\"><div class=\"exercise--instructions__content\"><ul>\n",
    "<li>Create a DataFrame called <code>individuals</code> that contains only the <code>individuals</code> column of <code>homelessness</code>.</li>\n",
    "<li>Print the head of the result.</li>\n",
    "</ul></div><div style=\"margin: 16px -15px 0px;\"><section class=\"dc-sct-feedback\" tabindex=\"-1\"><div></div><nav class=\"dc-sct-feedback__nav\"><div class=\"css-6is1tf\"></div></nav></section></div></div></div></li><li class=\"bullet-instruction clickable-tab instruction--completed\"><div class=\"subexercise-tab\"><div class=\"tab-line\"></div><div style=\"position: relative;\"><a href=\"javascript:void(0)\" class=\"completed\"><svg aria-label=\"checkmark icon\" class=\"dc-icon-checkmark\" fill=\"currentColor\" height=\"8\" role=\"Img\" width=\"8\"><use xlink:href=\"/campus/static/media/symbols.e369b265.svg#checkmark\"></use></svg></a></div></div><div class=\"bullet-instructions-list__instruction-content\"><div class=\"exercise--instructions exercise--typography\"><div class=\"exercise--instructions__content\"><ul>\n",
    "<li>Create a DataFrame called <code>state_fam</code> that contains only the <code>state</code> and <code>family_members</code> columns of <code>homelessness</code>, in that order.</li>\n",
    "<li>Print the head of the result.</li>\n",
    "</ul></div></div></div></li><li class=\"bullet-instruction clickable-tab instruction--completed\"><div class=\"subexercise-tab\"><div class=\"tab-line\"></div><div style=\"position: relative;\"><a href=\"javascript:void(0)\" class=\"completed\"><svg aria-label=\"checkmark icon\" class=\"dc-icon-checkmark\" fill=\"currentColor\" height=\"8\" role=\"Img\" width=\"8\"><use xlink:href=\"/campus/static/media/symbols.e369b265.svg#checkmark\"></use></svg></a></div></div><div class=\"bullet-instructions-list__instruction-content\"><div class=\"exercise--instructions exercise--typography\"><div class=\"exercise--instructions__content\"><ul>\n",
    "<li>Create a DataFrame called <code>ind_state</code> that contains the <code>individuals</code> and <code>state</code> columns of <code>homelessness</code>, in that order.</li>\n",
    "<li>Print the head of the result.</li>\n",
    "</ul></div></div></div></li></ul></div></div></div></div>"
   ]
  },
  {
   "cell_type": "code",
   "execution_count": 5,
   "metadata": {},
   "outputs": [
    {
     "name": "stdout",
     "output_type": "stream",
     "text": [
      "0      2570.0\n",
      "1      1434.0\n",
      "2      7259.0\n",
      "3      2280.0\n",
      "4    109008.0\n",
      "Name: individuals, dtype: float64\n"
     ]
    }
   ],
   "source": [
    "# Select the individuals column\n",
    "individuals = homelessness['individuals']\n",
    "\n",
    "# Print the head of the result\n",
    "print(individuals.head())"
   ]
  },
  {
   "cell_type": "markdown",
   "metadata": {},
   "source": [
    "<div class=\"exercise--assignment exercise--typography\"><h1 class=\"exercise--title\">Subsetting rows</h1><div class=\"\">\n",
    "<p>A large part of data science is about finding which bits of your dataset are interesting. One of the simplest techniques for this is to find a subset of rows that match some criteria. This is sometimes known as <em>filtering rows</em> or <em>selecting rows</em>.</p>\n",
    "<p>There are many ways to subset a DataFrame, perhaps the most common is to use relational operators to return <code>True</code> or <code>False</code> for each row, then pass that inside square brackets.</p>\n",
    "<pre><code>dogs[dogs[\"height_cm\"] &gt; 60]\n",
    "dogs[dogs[\"color\"] == \"tan\"]\n",
    "</code></pre>\n",
    "<p>You can filter for multiple conditions at once by using the \"bitwise and\" operator, <code>&amp;</code>.</p>\n",
    "<pre><code>dogs[(dogs[\"height_cm\"] &gt; 60) &amp; (dogs[\"color\"] == \"tan\")]\n",
    "</code></pre>\n",
    "<p><code>homelessness</code> is available and <code>pandas</code> is loaded as <code>pd</code>.</p></div></div>"
   ]
  },
  {
   "cell_type": "code",
   "execution_count": null,
   "metadata": {},
   "outputs": [],
   "source": []
  }
 ],
 "metadata": {
  "kernelspec": {
   "display_name": "Python 3",
   "language": "python",
   "name": "python3"
  },
  "language_info": {
   "codemirror_mode": {
    "name": "ipython",
    "version": 3
   },
   "file_extension": ".py",
   "mimetype": "text/x-python",
   "name": "python",
   "nbconvert_exporter": "python",
   "pygments_lexer": "ipython3",
   "version": "3.7.3"
  }
 },
 "nbformat": 4,
 "nbformat_minor": 2
}
