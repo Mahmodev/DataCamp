{
 "cells": [
  {
   "cell_type": "markdown",
   "metadata": {},
   "source": [
    "<h2 class=\"css-1sl3ts5\">1. Introduction to pandas DataFrames</h2>\n",
    "<div><h2 class=\"css-1sl3ts5\">2. What's the point of pandas?</h2><p>pandas is a Python package for data manipulation. It can also be used for data visualization; we'll get to that in Chapter 4.\n",
    "\n",
    "<div><h2 class=\"css-1sl3ts5\">3. Course outline</h2><p>We'll start by talking about DataFrames, which form the core of pandas.\n",
    "\n",
    "In chapter 2, we'll discuss aggregating data to gather insights.\n",
    "\n",
    "In chapter 3, you'll learn all about slicing and indexing to subset DataFrames.\n",
    "\n",
    "Finally, you'll visualize your data, deal with missing data, and read data into a DataFrame.\n",
    "\n",
    "Let's dive in.\n",
    "\n",
    "<div><h2 class=\"css-1sl3ts5\">4. pandas is built on NumPy and Matplotlib</h2><p>pandas is built on top of two essential Python packages, NumPy and Matplotlib. Numpy provides multidimensional array objects for easy data manipulation that pandas uses to store data, and Matplotlib has powerful data visualization capabilities that pandas takes advantage of.\n",
    "\n",
    "<div><h2 class=\"css-1sl3ts5\">5. pandas is popular</h2><p>pandas has millions of users, with PyPi recording about 14 million downloads in December 2019. This represents almost the entire Python data science community!\n",
    "\n",
    "<ol class=\"css-lsly4i\"><li><sup>1</sup> https://pypistats.org/packages/pandas</li></ol></div><h2 class=\"css-1sl3ts5\">6. Rectangular data</h2><p>There are several ways to store data for analysis, but rectangular data, sometimes called \"tabular data\" is the most common form. In this example, with dogs, each observation, or each dog, is a row, and each variable, or each dog property, is a column. pandas is designed to work with rectangular data like this.\n",
    "\n",
    "<div><h2 class=\"css-1sl3ts5\">7. pandas DataFrames</h2><p>In pandas, rectangular data is represented as a DataFrame object. Every programming language used for data analysis has something similar to this. R also has DataFrames, while SQL has database tables. Every value within a column has the same data type, either text or numeric, but different columns can contain different data types.\n",
    "\n",
    "<div><h2 class=\"css-1sl3ts5\">8. Exploring a DataFrame: .head()</h2><p>When you first receive a new dataset, you want to quickly explore it and get a sense of its contents. pandas has several methods for this. \n",
    "\n",
    "The first is head, which returns the first few rows of the DataFrame. We only had seven rows to begin with, so it's not super exciting, but this becomes very useful if you have many rows.\n",
    "\n",
    "<div><h2 class=\"css-1sl3ts5\">9. Exploring a DataFrame: .info()</h2><p>The info method displays the names of columns, the data types they contain, and whether they have any missing values.\n",
    "\n",
    "<div><h2 class=\"css-1sl3ts5\">10. Exploring a DataFrame: .shape</h2><p>A DataFrame's shape attribute contains a tuple that holds the number of rows followed by the number of columns. Since this is an attribute instead of a method, you write it without parentheses.\n",
    "\n",
    "<div><h2 class=\"css-1sl3ts5\">11. Exploring a DataFrame: .describe()</h2><p>The describe method computes some summary statistics for numerical columns, like mean and median. \"count\" is the number of non-missing values in each column. describe is good for a quick overview of numeric variables, but if you want more control, you'll see how to perform more specific calculations later in the course.\n",
    "\n",
    "<div><h2 class=\"css-1sl3ts5\">12. Components of a DataFrame: .values</h2><p>DataFrames consist of three different components, accessible using attributes.\n",
    "\n",
    "The values attribute, as you might expect, contains the data values in a 2-dimensional NumPy array.\n",
    "\n",
    "<div><h2 class=\"css-1sl3ts5\">13. Components of a DataFrame: .columns and .index</h2><p>The other two components of a DataFrame are labels for columns and rows. The columns attribute contains column names, and the index attribute contains row numbers or row names. Be careful, since row labels are stored in dot-index, not in dot-rows.\n",
    "\n",
    "Notice that these are Index objects, which we'll cover in Chapter 3. This allows for flexibility in labels. For example, the dogs data uses row numbers, but row names are also possible.\n",
    "\n",
    "<div><h2 class=\"css-1sl3ts5\">14. pandas Philosophy</h2><p>Python has a semi-official philosophy on how to write good code called The Zen of Python. One suggestion is that given a programming problem, there should only be one obvious solution. As you go through this course, bear in mind that pandas deliberately doesn't follow this philosophy. Instead, there are often multiple ways to solve a problem, leaving you to choose the best. \n",
    "\n",
    "In this respect, pandas is like a Swiss Army Knife, giving you a variety of tools, making it incredibly powerful, but more difficult to learn. In this course, we aim for a more streamlined approach to pandas, only covering the most important ways of doing things.\n",
    "\n"
   ]
  },
  {
   "cell_type": "markdown",
   "metadata": {},
   "source": [
    "<div class=\"listview__content\"><div class=\"exercise--assignment exercise--typography\"><h1 class=\"exercise--title\">1- Inspecting a DataFrame</h1><div class=\"\">\n",
    "<p>When you get a new DataFrame to work with, the first thing you need to do is explore it and see what it contains. There are several useful methods and attributes for this.</p>\n",
    "<ul>\n",
    "<li><code>.head()</code> returns the first few rows (the “head” of the DataFrame).</li>\n",
    "<li><code>.info()</code> shows information on each of the columns, such as the data type and number of missing values.</li>\n",
    "<li><code>.shape</code> returns the number of rows and columns of the DataFrame.</li>\n",
    "<li><code>.describe()</code> calculates a few summary statistics for each column.</li>\n",
    "</ul>\n",
    "<p><code>homelessness</code> is a DataFrame containing estimates of homelessness in each U.S. state in 2018. The <code>individual</code> column is the number of homeless individuals not part of a family with children. The <code>family_members</code> column is the number of homeless individuals part of a family with children. The <code>state_pop</code> column is the state's total population.</p>\n",
    "</div></div></div>\n",
    "\n",
    "<li> Print the head of the homelessness DataFrame.</li>\n",
    "<li>Print information about the column types and missing values in <code>homelessness</code>.</li>\n",
    "<li>Print the number of rows and columns in <code>homelessness</code>.</li>\n",
    "<li>Print some summary statistics that describe the <code>homelessness</code> DataFrame.</li>"
   ]
  },
  {
   "cell_type": "code",
   "execution_count": 19,
   "metadata": {
    "scrolled": true
   },
   "outputs": [
    {
     "name": "stdout",
     "output_type": "stream",
     "text": [
      "               region       state  individuals  family_members  state_pop\n",
      "0  East South Central     Alabama       2570.0           864.0    4887681\n",
      "1             Pacific      Alaska       1434.0           582.0     735139\n",
      "2            Mountain     Arizona       7259.0          2606.0    7158024\n",
      "3  West South Central    Arkansas       2280.0           432.0    3009733\n",
      "4             Pacific  California     109008.0         20964.0   39461588\n",
      "<class 'pandas.core.frame.DataFrame'>\n",
      "Int64Index: 51 entries, 0 to 50\n",
      "Data columns (total 5 columns):\n",
      " #   Column          Non-Null Count  Dtype  \n",
      "---  ------          --------------  -----  \n",
      " 0   region          51 non-null     object \n",
      " 1   state           51 non-null     object \n",
      " 2   individuals     51 non-null     float64\n",
      " 3   family_members  51 non-null     float64\n",
      " 4   state_pop       51 non-null     int64  \n",
      "dtypes: float64(2), int64(1), object(2)\n",
      "memory usage: 2.4+ KB\n",
      "None\n",
      "(51, 5)\n",
      "         individuals  family_members     state_pop\n",
      "count      51.000000       51.000000  5.100000e+01\n",
      "mean     7225.784314     3504.882353  6.405637e+06\n",
      "std     15991.025083     7805.411811  7.327258e+06\n",
      "min       434.000000       75.000000  5.776010e+05\n",
      "25%      1446.500000      592.000000  1.777414e+06\n",
      "50%      3082.000000     1482.000000  4.461153e+06\n",
      "75%      6781.500000     3196.000000  7.340946e+06\n",
      "max    109008.000000    52070.000000  3.946159e+07\n"
     ]
    }
   ],
   "source": [
    "import pandas as pd\n",
    "homelessness = pd.read_csv('datasets/homelessness.csv', index_col=0)\n",
    "# Print the head of the homelessness data\n",
    "print(homelessness.head())\n",
    "\n",
    "# Print information about homelessness\n",
    "print(homelessness.info())\n",
    "\n",
    "# Print the shape of homelessness\n",
    "print(homelessness.shape)\n",
    "\n",
    "# Print a description of homelessness\n",
    "print(homelessness.describe())"
   ]
  },
  {
   "cell_type": "markdown",
   "metadata": {},
   "source": [
    "<h1 class=\"exercise--title\">2- Parts of a DataFrame</h1><div class=\"\">\n",
    "<p>To better understand DataFrame objects, it's useful to know that they consist of three components, stored as attributes:</p>\n",
    "<ul>\n",
    "<li><code>.values</code>: A two-dimensional NumPy array of values.</li>\n",
    "<li><code>.columns</code>: An index of columns: the column names.</li>\n",
    "<li><code>.index</code>: An index for the rows: either row numbers or row names.</li>\n",
    "</ul>\n",
    "<p>You can usually think of indexes as a list of strings or numbers, though the pandas <code>Index</code> data type allows for more sophisticated options. (These will be covered later in the course.)</p>\n",
    "<p><code>homelessness</code> is available.</p></div></div></div></div>\n",
    "<h1>Instructions</h1>\n",
    "\n",
    "<li>Print a 2D NumPy array of the values in <code>homelessness</code>.</li>\n",
    "<li>Print the column names of <code>homelessness</code>.</li>\n",
    "<li>Print the index of <code>homelessness</code>.</li>"
   ]
  },
  {
   "cell_type": "code",
   "execution_count": 20,
   "metadata": {
    "scrolled": true
   },
   "outputs": [
    {
     "name": "stdout",
     "output_type": "stream",
     "text": [
      "[['East South Central' 'Alabama' 2570.0 864.0 4887681]\n",
      " ['Pacific' 'Alaska' 1434.0 582.0 735139]\n",
      " ['Mountain' 'Arizona' 7259.0 2606.0 7158024]\n",
      " ['West South Central' 'Arkansas' 2280.0 432.0 3009733]\n",
      " ['Pacific' 'California' 109008.0 20964.0 39461588]\n",
      " ['Mountain' 'Colorado' 7607.0 3250.0 5691287]\n",
      " ['New England' 'Connecticut' 2280.0 1696.0 3571520]\n",
      " ['South Atlantic' 'Delaware' 708.0 374.0 965479]\n",
      " ['South Atlantic' 'District of Columbia' 3770.0 3134.0 701547]\n",
      " ['South Atlantic' 'Florida' 21443.0 9587.0 21244317]\n",
      " ['South Atlantic' 'Georgia' 6943.0 2556.0 10511131]\n",
      " ['Pacific' 'Hawaii' 4131.0 2399.0 1420593]\n",
      " ['Mountain' 'Idaho' 1297.0 715.0 1750536]\n",
      " ['East North Central' 'Illinois' 6752.0 3891.0 12723071]\n",
      " ['East North Central' 'Indiana' 3776.0 1482.0 6695497]\n",
      " ['West North Central' 'Iowa' 1711.0 1038.0 3148618]\n",
      " ['West North Central' 'Kansas' 1443.0 773.0 2911359]\n",
      " ['East South Central' 'Kentucky' 2735.0 953.0 4461153]\n",
      " ['West South Central' 'Louisiana' 2540.0 519.0 4659690]\n",
      " ['New England' 'Maine' 1450.0 1066.0 1339057]\n",
      " ['South Atlantic' 'Maryland' 4914.0 2230.0 6035802]\n",
      " ['New England' 'Massachusetts' 6811.0 13257.0 6882635]\n",
      " ['East North Central' 'Michigan' 5209.0 3142.0 9984072]\n",
      " ['West North Central' 'Minnesota' 3993.0 3250.0 5606249]\n",
      " ['East South Central' 'Mississippi' 1024.0 328.0 2981020]\n",
      " ['West North Central' 'Missouri' 3776.0 2107.0 6121623]\n",
      " ['Mountain' 'Montana' 983.0 422.0 1060665]\n",
      " ['West North Central' 'Nebraska' 1745.0 676.0 1925614]\n",
      " ['Mountain' 'Nevada' 7058.0 486.0 3027341]\n",
      " ['New England' 'New Hampshire' 835.0 615.0 1353465]\n",
      " ['Mid-Atlantic' 'New Jersey' 6048.0 3350.0 8886025]\n",
      " ['Mountain' 'New Mexico' 1949.0 602.0 2092741]\n",
      " ['Mid-Atlantic' 'New York' 39827.0 52070.0 19530351]\n",
      " ['South Atlantic' 'North Carolina' 6451.0 2817.0 10381615]\n",
      " ['West North Central' 'North Dakota' 467.0 75.0 758080]\n",
      " ['East North Central' 'Ohio' 6929.0 3320.0 11676341]\n",
      " ['West South Central' 'Oklahoma' 2823.0 1048.0 3940235]\n",
      " ['Pacific' 'Oregon' 11139.0 3337.0 4181886]\n",
      " ['Mid-Atlantic' 'Pennsylvania' 8163.0 5349.0 12800922]\n",
      " ['New England' 'Rhode Island' 747.0 354.0 1058287]\n",
      " ['South Atlantic' 'South Carolina' 3082.0 851.0 5084156]\n",
      " ['West North Central' 'South Dakota' 836.0 323.0 878698]\n",
      " ['East South Central' 'Tennessee' 6139.0 1744.0 6771631]\n",
      " ['West South Central' 'Texas' 19199.0 6111.0 28628666]\n",
      " ['Mountain' 'Utah' 1904.0 972.0 3153550]\n",
      " ['New England' 'Vermont' 780.0 511.0 624358]\n",
      " ['South Atlantic' 'Virginia' 3928.0 2047.0 8501286]\n",
      " ['Pacific' 'Washington' 16424.0 5880.0 7523869]\n",
      " ['South Atlantic' 'West Virginia' 1021.0 222.0 1804291]\n",
      " ['East North Central' 'Wisconsin' 2740.0 2167.0 5807406]\n",
      " ['Mountain' 'Wyoming' 434.0 205.0 577601]]\n",
      "Index(['region', 'state', 'individuals', 'family_members', 'state_pop'], dtype='object')\n",
      "Int64Index([ 0,  1,  2,  3,  4,  5,  6,  7,  8,  9, 10, 11, 12, 13, 14, 15, 16,\n",
      "            17, 18, 19, 20, 21, 22, 23, 24, 25, 26, 27, 28, 29, 30, 31, 32, 33,\n",
      "            34, 35, 36, 37, 38, 39, 40, 41, 42, 43, 44, 45, 46, 47, 48, 49,\n",
      "            50],\n",
      "           dtype='int64')\n"
     ]
    }
   ],
   "source": [
    "# Print the values of homelessness\n",
    "print(homelessness.values)\n",
    "\n",
    "# Print the column index of homelessness\n",
    "print(homelessness.columns)\n",
    "\n",
    "# Print the row index of homelessness\n",
    "print (homelessness.index)"
   ]
  },
  {
   "cell_type": "markdown",
   "metadata": {},
   "source": [
    "<div class=\"listview__content\"><div class=\"exercise--assignment exercise--typography\"><h1 class=\"exercise--title\">Sorting rows</h1><div class=\"\">\n",
    "<p>Finding interesting bits of data in a DataFrame is often easier if you change the order of the rows. You can sort the rows by passing a column name to <code>.sort_values()</code>.</p>\n",
    "<p>In cases where rows have the same value (this is common if you sort on a categorical variable), you may wish to break the ties by sorting on another column. You can sort on multiple columns in this way by passing a list of column names.</p>\n",
    "<table>\n",
    "<thead>\n",
    "<tr>\n",
    "<th>Sort on …</th>\n",
    "<th>Syntax</th>\n",
    "</tr>\n",
    "</thead>\n",
    "<tbody>\n",
    "<tr>\n",
    "<td>one column</td>\n",
    "<td><code>df.sort_values(\"breed\")</code></td>\n",
    "</tr>\n",
    "<tr>\n",
    "<td>multiple columns</td>\n",
    "<td><code>df.sort_values([\"breed\", \"weight_kg\"])</code></td>\n",
    "</tr>\n",
    "</tbody>\n",
    "</table>\n",
    "<p>By combining <code>.sort_values()</code> with <code>.head()</code>, you can answer questions in the form, \"What are the top cases where…?\".</p>\n",
    "<p><code>homelessness</code> is available and <code>pandas</code> is loaded as <code>pd</code>.</p></div></div></div>"
   ]
  },
  {
   "cell_type": "markdown",
   "metadata": {},
   "source": [
    "<h1 class=\"exercise--title\">Instructions</h1>\n",
    "<div class=\"listview__content\"><div><div class=\"instructions--bullet bullet-steps\"><div class=\"bullet-instructions-list\"><ul><li class=\"bullet-instruction instruction--completed active--instruction\"><div class=\"subexercise-tab\"><div class=\"tab-line\"></div><div style=\"position: relative;\"><a href=\"javascript:void(0)\" class=\"active-tab completed\"><svg aria-label=\"checkmark icon\" class=\"dc-icon-checkmark\" fill=\"currentColor\" height=\"8\" role=\"Img\" width=\"8\"><use xlink:href=\"/campus/static/media/symbols.e369b265.svg#checkmark\"></use></svg></a></div></div><div class=\"bullet-instructions-list__instruction-content\"><div class=\"exercise--instructions exercise--typography\"><div class=\"exercise--instructions__content\"><ul>\n",
    "<li>Sort <code>homelessness</code> by the number of homeless individuals, from smallest to largest, and save this as <code>homelessness_ind</code>.</li>\n",
    "<li>Print the head of the sorted DataFrame.</li>\n",
    "</ul></div><div style=\"margin: 16px -15px 0px;\"><section class=\"dc-sct-feedback\" tabindex=\"-1\"><div></div><nav class=\"dc-sct-feedback__nav\"><div class=\"css-6is1tf\"></div></nav></section></div></div></div></li><li class=\"bullet-instruction clickable-tab instruction--completed\"><div class=\"subexercise-tab\"><div class=\"tab-line\"></div><div style=\"position: relative;\"><a href=\"javascript:void(0)\" class=\"completed\"><svg aria-label=\"checkmark icon\" class=\"dc-icon-checkmark\" fill=\"currentColor\" height=\"8\" role=\"Img\" width=\"8\"><use xlink:href=\"/campus/static/media/symbols.e369b265.svg#checkmark\"></use></svg></a></div></div><div class=\"bullet-instructions-list__instruction-content\"><div class=\"exercise--instructions exercise--typography\"><div class=\"exercise--instructions__content\"><ul>\n",
    "<li>Sort <code>homelessness</code> by the number of homeless <code>family_members</code> in descending order, and save this as <code>homelessness_fam</code>.</li>\n",
    "<li>Print the head of the sorted DataFrame.</li>\n",
    "</ul></div></div></div></li><li class=\"bullet-instruction clickable-tab instruction--completed\"><div class=\"subexercise-tab\"><div class=\"tab-line\"></div><div style=\"position: relative;\"><a href=\"javascript:void(0)\" class=\"completed\"><svg aria-label=\"checkmark icon\" class=\"dc-icon-checkmark\" fill=\"currentColor\" height=\"8\" role=\"Img\" width=\"8\"><use xlink:href=\"/campus/static/media/symbols.e369b265.svg#checkmark\"></use></svg></a></div></div><div class=\"bullet-instructions-list__instruction-content\"><div class=\"exercise--instructions exercise--typography\"><div class=\"exercise--instructions__content\"><ul>\n",
    "<li>Sort <code>homelessness</code> first by region (ascending), and then by number of family members (descending). Save this as <code>homelessness_reg_fam</code>.</li>\n",
    "<li>Print the head of the sorted DataFrame.</li>\n",
    "</ul></div></div></div></li></ul></div></div></div></div>"
   ]
  },
  {
   "cell_type": "code",
   "execution_count": 21,
   "metadata": {},
   "outputs": [
    {
     "name": "stdout",
     "output_type": "stream",
     "text": [
      "                region         state  individuals  family_members  state_pop\n",
      "50            Mountain       Wyoming        434.0           205.0     577601\n",
      "34  West North Central  North Dakota        467.0            75.0     758080\n",
      "7       South Atlantic      Delaware        708.0           374.0     965479\n",
      "39         New England  Rhode Island        747.0           354.0    1058287\n",
      "45         New England       Vermont        780.0           511.0     624358\n"
     ]
    }
   ],
   "source": [
    "# Sort homelessness by individual\n",
    "homelessness_ind = homelessness.sort_values('individuals')\n",
    "\n",
    "# Print the top few rows\n",
    "print(homelessness_ind.head())"
   ]
  },
  {
   "cell_type": "markdown",
   "metadata": {},
   "source": [
    "<div class=\"exercise--assignment exercise--typography\"><h1 class=\"exercise--title\">Subsetting columns</h1><div class=\"\">\n",
    "<p>When working with data, you may not need all of the variables in your dataset. Square brackets (<code>[]</code>) can be used to select only the columns that matter to you in an order that makes sense to you.\n",
    "To select only <code>\"col_a\"</code> of the DataFrame <code>df</code>, use</p>\n",
    "<pre><code>df[\"col_a\"]\n",
    "</code></pre>\n",
    "<p>To select <code>\"col_a\"</code> and <code>\"col_b\"</code> of <code>df</code>, use</p>\n",
    "<pre><code>df[[\"col_a\", \"col_b\"]]\n",
    "</code></pre>\n",
    "<p><code>homelessness</code> is available and <code>pandas</code> is loaded as <code>pd</code>.</p></div></div>"
   ]
  },
  {
   "cell_type": "markdown",
   "metadata": {},
   "source": [
    "<h1>Instrcutions</h1>\n",
    "<div class=\"listview__content\"><div><div class=\"instructions--bullet bullet-steps\"><div class=\"bullet-instructions-list\"><ul><li class=\"bullet-instruction instruction--completed active--instruction\"><div class=\"subexercise-tab\"><div class=\"tab-line\"></div><div style=\"position: relative;\"><a href=\"javascript:void(0)\" class=\"active-tab completed\"><svg aria-label=\"checkmark icon\" class=\"dc-icon-checkmark\" fill=\"currentColor\" height=\"8\" role=\"Img\" width=\"8\"><use xlink:href=\"/campus/static/media/symbols.e369b265.svg#checkmark\"></use></svg></a></div></div><div class=\"bullet-instructions-list__instruction-content\"><div class=\"exercise--instructions exercise--typography\"><div class=\"exercise--instructions__content\"><ul>\n",
    "<li>Create a DataFrame called <code>individuals</code> that contains only the <code>individuals</code> column of <code>homelessness</code>.</li>\n",
    "<li>Print the head of the result.</li>\n",
    "</ul></div><div style=\"margin: 16px -15px 0px;\"><section class=\"dc-sct-feedback\" tabindex=\"-1\"><div></div><nav class=\"dc-sct-feedback__nav\"><div class=\"css-6is1tf\"></div></nav></section></div></div></div></li><li class=\"bullet-instruction clickable-tab instruction--completed\"><div class=\"subexercise-tab\"><div class=\"tab-line\"></div><div style=\"position: relative;\"><a href=\"javascript:void(0)\" class=\"completed\"><svg aria-label=\"checkmark icon\" class=\"dc-icon-checkmark\" fill=\"currentColor\" height=\"8\" role=\"Img\" width=\"8\"><use xlink:href=\"/campus/static/media/symbols.e369b265.svg#checkmark\"></use></svg></a></div></div><div class=\"bullet-instructions-list__instruction-content\"><div class=\"exercise--instructions exercise--typography\"><div class=\"exercise--instructions__content\"><ul>\n",
    "<li>Create a DataFrame called <code>state_fam</code> that contains only the <code>state</code> and <code>family_members</code> columns of <code>homelessness</code>, in that order.</li>\n",
    "<li>Print the head of the result.</li>\n",
    "</ul></div></div></div></li><li class=\"bullet-instruction clickable-tab instruction--completed\"><div class=\"subexercise-tab\"><div class=\"tab-line\"></div><div style=\"position: relative;\"><a href=\"javascript:void(0)\" class=\"completed\"><svg aria-label=\"checkmark icon\" class=\"dc-icon-checkmark\" fill=\"currentColor\" height=\"8\" role=\"Img\" width=\"8\"><use xlink:href=\"/campus/static/media/symbols.e369b265.svg#checkmark\"></use></svg></a></div></div><div class=\"bullet-instructions-list__instruction-content\"><div class=\"exercise--instructions exercise--typography\"><div class=\"exercise--instructions__content\"><ul>\n",
    "<li>Create a DataFrame called <code>ind_state</code> that contains the <code>individuals</code> and <code>state</code> columns of <code>homelessness</code>, in that order.</li>\n",
    "<li>Print the head of the result.</li>\n",
    "</ul></div></div></div></li></ul></div></div></div></div>"
   ]
  },
  {
   "cell_type": "code",
   "execution_count": 22,
   "metadata": {},
   "outputs": [
    {
     "name": "stdout",
     "output_type": "stream",
     "text": [
      "0      2570.0\n",
      "1      1434.0\n",
      "2      7259.0\n",
      "3      2280.0\n",
      "4    109008.0\n",
      "Name: individuals, dtype: float64\n"
     ]
    }
   ],
   "source": [
    "# Select the individuals column\n",
    "individuals = homelessness['individuals']\n",
    "\n",
    "# Print the head of the result\n",
    "print(individuals.head())"
   ]
  },
  {
   "cell_type": "markdown",
   "metadata": {},
   "source": [
    "<div class=\"exercise--assignment exercise--typography\"><h1 class=\"exercise--title\">Subsetting rows</h1><div class=\"\">\n",
    "<p>A large part of data science is about finding which bits of your dataset are interesting. One of the simplest techniques for this is to find a subset of rows that match some criteria. This is sometimes known as <em>filtering rows</em> or <em>selecting rows</em>.</p>\n",
    "<p>There are many ways to subset a DataFrame, perhaps the most common is to use relational operators to return <code>True</code> or <code>False</code> for each row, then pass that inside square brackets.</p>\n",
    "<pre><code>dogs[dogs[\"height_cm\"] &gt; 60]\n",
    "dogs[dogs[\"color\"] == \"tan\"]\n",
    "</code></pre>\n",
    "<p>You can filter for multiple conditions at once by using the \"bitwise and\" operator, <code>&amp;</code>.</p>\n",
    "<pre><code>dogs[(dogs[\"height_cm\"] &gt; 60) &amp; (dogs[\"color\"] == \"tan\")]\n",
    "</code></pre>\n",
    "<p><code>homelessness</code> is available and <code>pandas</code> is loaded as <code>pd</code>.</p></div></div>"
   ]
  },
  {
   "cell_type": "markdown",
   "metadata": {},
   "source": [
    "<h1>Instructions</h1>\n",
    "<p>1- Filter <code>homelessness</code> for cases where the number of individuals is greater than ten thousand, assigning to <code>ind_gt_10k</code>. <em>View the printed result.</em></p>\n",
    "<p>2- Filter <code>homelessness</code> for cases where the USA Census region is <code>\"Mountain\"</code>, assigning to <code>mountain_reg</code>. <em>View the printed result.</em></p>\n",
    "<p>3- Filter <code>homelessness</code> for cases where the number of <code>family_members</code> is less than one thousand and the <code>region</code> is \"Pacific\", assigning to <code>fam_lt_1k_pac</code>. <em>View the printed result.</em></p>"
   ]
  },
  {
   "cell_type": "code",
   "execution_count": 23,
   "metadata": {},
   "outputs": [
    {
     "name": "stdout",
     "output_type": "stream",
     "text": [
      "                region       state  individuals  family_members  state_pop\n",
      "4              Pacific  California     109008.0         20964.0   39461588\n",
      "9       South Atlantic     Florida      21443.0          9587.0   21244317\n",
      "32        Mid-Atlantic    New York      39827.0         52070.0   19530351\n",
      "37             Pacific      Oregon      11139.0          3337.0    4181886\n",
      "43  West South Central       Texas      19199.0          6111.0   28628666\n",
      "47             Pacific  Washington      16424.0          5880.0    7523869\n",
      "      region       state  individuals  family_members  state_pop\n",
      "2   Mountain     Arizona       7259.0          2606.0    7158024\n",
      "5   Mountain    Colorado       7607.0          3250.0    5691287\n",
      "12  Mountain       Idaho       1297.0           715.0    1750536\n",
      "26  Mountain     Montana        983.0           422.0    1060665\n",
      "28  Mountain      Nevada       7058.0           486.0    3027341\n",
      "31  Mountain  New Mexico       1949.0           602.0    2092741\n",
      "44  Mountain        Utah       1904.0           972.0    3153550\n",
      "50  Mountain     Wyoming        434.0           205.0     577601\n",
      "    region   state  individuals  family_members  state_pop\n",
      "1  Pacific  Alaska       1434.0           582.0     735139\n"
     ]
    }
   ],
   "source": [
    "# Filter for rows where individuals is greater than 10000\n",
    "ind_gt_10k = homelessness[homelessness['individuals'] > 10000]\n",
    "\n",
    "# See the result\n",
    "print(ind_gt_10k)\n",
    "\n",
    "# Filter for rows where region is Mountain\n",
    "mountain_reg = homelessness[homelessness['region'] == 'Mountain']\n",
    "\n",
    "# See the result\n",
    "print (mountain_reg)\n",
    "\n",
    "# Filter for rows where family_members is less than 1000 \n",
    "# and region is Pacific\n",
    "fam_lt_1k_pac = homelessness[(homelessness['family_members'] < 1000) & (homelessness['region'] == 'Pacific') ]\n",
    "\n",
    "# See the result\n",
    "print(fam_lt_1k_pac)"
   ]
  },
  {
   "cell_type": "markdown",
   "metadata": {},
   "source": [
    "<div class=\"exercise--assignment exercise--typography\"><h1 class=\"exercise--title\">Subsetting rows by categorical variables</h1><div class=\"\">\n",
    "<p>Subsetting data based on a categorical variable often involves using the \"or\" operator (<code>|</code>) to select rows from multiple categories. This can get tedious when you want all states in one of three different regions, for example. \n",
    "Instead, use the <code>.isin()</code> method, which will allow you to tackle this problem by writing one condition instead of three separate ones.</p>\n",
    "<pre><code>colors = [\"brown\", \"black\", \"tan\"]\n",
    "condition = dogs[\"color\"].isin(colors)\n",
    "dogs[condition]\n",
    "</code></pre>\n",
    "<p><code>homelessness</code> is available and <code>pandas</code> is loaded as <code>pd</code>.</p></div></div>"
   ]
  },
  {
   "cell_type": "markdown",
   "metadata": {},
   "source": [
    "<h1>Instructions</h1>\n",
    "<p>1- Filter <code>homelessness</code> for cases where the USA census region is \"South Atlantic\" or it is \"Mid-Atlantic\", assigning to <code>south_mid_atlantic</code>. <em>View the printed result.</em></p>\n",
    "<p>2- Filter <code>homelessness</code> for cases where the USA census <code>state</code> is in the list of Mojave states, <code>canu</code>, assigning to <code>mojave_homelessness</code>. <em>View the printed result.</em></p>"
   ]
  },
  {
   "cell_type": "code",
   "execution_count": 24,
   "metadata": {},
   "outputs": [
    {
     "name": "stdout",
     "output_type": "stream",
     "text": [
      "            region                 state  individuals  family_members  \\\n",
      "7   South Atlantic              Delaware        708.0           374.0   \n",
      "8   South Atlantic  District of Columbia       3770.0          3134.0   \n",
      "9   South Atlantic               Florida      21443.0          9587.0   \n",
      "10  South Atlantic               Georgia       6943.0          2556.0   \n",
      "20  South Atlantic              Maryland       4914.0          2230.0   \n",
      "30    Mid-Atlantic            New Jersey       6048.0          3350.0   \n",
      "32    Mid-Atlantic              New York      39827.0         52070.0   \n",
      "33  South Atlantic        North Carolina       6451.0          2817.0   \n",
      "38    Mid-Atlantic          Pennsylvania       8163.0          5349.0   \n",
      "40  South Atlantic        South Carolina       3082.0           851.0   \n",
      "46  South Atlantic              Virginia       3928.0          2047.0   \n",
      "48  South Atlantic         West Virginia       1021.0           222.0   \n",
      "\n",
      "    state_pop  \n",
      "7      965479  \n",
      "8      701547  \n",
      "9    21244317  \n",
      "10   10511131  \n",
      "20    6035802  \n",
      "30    8886025  \n",
      "32   19530351  \n",
      "33   10381615  \n",
      "38   12800922  \n",
      "40    5084156  \n",
      "46    8501286  \n",
      "48    1804291  \n",
      "      region       state  individuals  family_members  state_pop\n",
      "2   Mountain     Arizona       7259.0          2606.0    7158024\n",
      "4    Pacific  California     109008.0         20964.0   39461588\n",
      "28  Mountain      Nevada       7058.0           486.0    3027341\n",
      "44  Mountain        Utah       1904.0           972.0    3153550\n"
     ]
    }
   ],
   "source": [
    "# Subset for rows in South Atlantic or Mid-Atlantic regions\n",
    "south_mid_atlantic = homelessness[homelessness['region'].isin(['South Atlantic', 'Mid-Atlantic'])]\n",
    "\n",
    "# See the result\n",
    "print(south_mid_atlantic)\n",
    "\n",
    "# The Mojave Desert states\n",
    "canu = [\"California\", \"Arizona\", \"Nevada\", \"Utah\"]\n",
    "\n",
    "# Filter for rows in the Mojave Desert states\n",
    "mojave_homelessness =homelessness[homelessness['state'].isin(canu)]\n",
    "\n",
    "# See the result\n",
    "print(mojave_homelessness)"
   ]
  },
  {
   "cell_type": "markdown",
   "metadata": {},
   "source": [
    "<div class=\"listview__content\"><div class=\"exercise--assignment exercise--typography\"><h1 class=\"exercise--title\">Adding new columns</h1><div class=\"\">\n",
    "<p>You aren't stuck with just the data you are given. Instead, you can add new columns to a DataFrame. This has many names, such as <em>transforming</em>, <em>mutating</em>, and <em>feature engineering</em>.</p>\n",
    "<p>You can create new columns from scratch, but it is also common to derive them from other columns, for example, by adding columns together or by changing their units. </p>\n",
    "<p><code>homelessness</code> is available and <code>pandas</code> is loaded as <code>pd</code>.</p></div></div></div>\n",
    "\"><h1 class=\"exercise--title\">Instructions</h1><div class=\"\">\n",
    "<div class=\"exercise--instructions__content\"><ul>\n",
    "<li>1- Add a new column to <code>homelessness</code>, named <code>total</code>, containing the sum of the <code>individuals</code> and <code>family_members</code> columns.</li>\n",
    "<li>2- Add another column to <code>homelessness</code>, named <code>p_individuals</code>, containing the proportion of homeless people in each state who are individuals.</li>\n",
    "</ul></div>"
   ]
  },
  {
   "cell_type": "code",
   "execution_count": 25,
   "metadata": {},
   "outputs": [
    {
     "name": "stdout",
     "output_type": "stream",
     "text": [
      "                region                 state  individuals  family_members  \\\n",
      "0   East South Central               Alabama       2570.0           864.0   \n",
      "1              Pacific                Alaska       1434.0           582.0   \n",
      "2             Mountain               Arizona       7259.0          2606.0   \n",
      "3   West South Central              Arkansas       2280.0           432.0   \n",
      "4              Pacific            California     109008.0         20964.0   \n",
      "5             Mountain              Colorado       7607.0          3250.0   \n",
      "6          New England           Connecticut       2280.0          1696.0   \n",
      "7       South Atlantic              Delaware        708.0           374.0   \n",
      "8       South Atlantic  District of Columbia       3770.0          3134.0   \n",
      "9       South Atlantic               Florida      21443.0          9587.0   \n",
      "10      South Atlantic               Georgia       6943.0          2556.0   \n",
      "11             Pacific                Hawaii       4131.0          2399.0   \n",
      "12            Mountain                 Idaho       1297.0           715.0   \n",
      "13  East North Central              Illinois       6752.0          3891.0   \n",
      "14  East North Central               Indiana       3776.0          1482.0   \n",
      "15  West North Central                  Iowa       1711.0          1038.0   \n",
      "16  West North Central                Kansas       1443.0           773.0   \n",
      "17  East South Central              Kentucky       2735.0           953.0   \n",
      "18  West South Central             Louisiana       2540.0           519.0   \n",
      "19         New England                 Maine       1450.0          1066.0   \n",
      "20      South Atlantic              Maryland       4914.0          2230.0   \n",
      "21         New England         Massachusetts       6811.0         13257.0   \n",
      "22  East North Central              Michigan       5209.0          3142.0   \n",
      "23  West North Central             Minnesota       3993.0          3250.0   \n",
      "24  East South Central           Mississippi       1024.0           328.0   \n",
      "25  West North Central              Missouri       3776.0          2107.0   \n",
      "26            Mountain               Montana        983.0           422.0   \n",
      "27  West North Central              Nebraska       1745.0           676.0   \n",
      "28            Mountain                Nevada       7058.0           486.0   \n",
      "29         New England         New Hampshire        835.0           615.0   \n",
      "30        Mid-Atlantic            New Jersey       6048.0          3350.0   \n",
      "31            Mountain            New Mexico       1949.0           602.0   \n",
      "32        Mid-Atlantic              New York      39827.0         52070.0   \n",
      "33      South Atlantic        North Carolina       6451.0          2817.0   \n",
      "34  West North Central          North Dakota        467.0            75.0   \n",
      "35  East North Central                  Ohio       6929.0          3320.0   \n",
      "36  West South Central              Oklahoma       2823.0          1048.0   \n",
      "37             Pacific                Oregon      11139.0          3337.0   \n",
      "38        Mid-Atlantic          Pennsylvania       8163.0          5349.0   \n",
      "39         New England          Rhode Island        747.0           354.0   \n",
      "40      South Atlantic        South Carolina       3082.0           851.0   \n",
      "41  West North Central          South Dakota        836.0           323.0   \n",
      "42  East South Central             Tennessee       6139.0          1744.0   \n",
      "43  West South Central                 Texas      19199.0          6111.0   \n",
      "44            Mountain                  Utah       1904.0           972.0   \n",
      "45         New England               Vermont        780.0           511.0   \n",
      "46      South Atlantic              Virginia       3928.0          2047.0   \n",
      "47             Pacific            Washington      16424.0          5880.0   \n",
      "48      South Atlantic         West Virginia       1021.0           222.0   \n",
      "49  East North Central             Wisconsin       2740.0          2167.0   \n",
      "50            Mountain               Wyoming        434.0           205.0   \n",
      "\n",
      "    state_pop     total  p_individuals  \n",
      "0     4887681    3434.0       0.748398  \n",
      "1      735139    2016.0       0.711310  \n",
      "2     7158024    9865.0       0.735834  \n",
      "3     3009733    2712.0       0.840708  \n",
      "4    39461588  129972.0       0.838704  \n",
      "5     5691287   10857.0       0.700654  \n",
      "6     3571520    3976.0       0.573441  \n",
      "7      965479    1082.0       0.654344  \n",
      "8      701547    6904.0       0.546060  \n",
      "9    21244317   31030.0       0.691041  \n",
      "10   10511131    9499.0       0.730919  \n",
      "11    1420593    6530.0       0.632619  \n",
      "12    1750536    2012.0       0.644632  \n",
      "13   12723071   10643.0       0.634408  \n",
      "14    6695497    5258.0       0.718144  \n",
      "15    3148618    2749.0       0.622408  \n",
      "16    2911359    2216.0       0.651173  \n",
      "17    4461153    3688.0       0.741594  \n",
      "18    4659690    3059.0       0.830337  \n",
      "19    1339057    2516.0       0.576312  \n",
      "20    6035802    7144.0       0.687850  \n",
      "21    6882635   20068.0       0.339396  \n",
      "22    9984072    8351.0       0.623758  \n",
      "23    5606249    7243.0       0.551291  \n",
      "24    2981020    1352.0       0.757396  \n",
      "25    6121623    5883.0       0.641849  \n",
      "26    1060665    1405.0       0.699644  \n",
      "27    1925614    2421.0       0.720777  \n",
      "28    3027341    7544.0       0.935578  \n",
      "29    1353465    1450.0       0.575862  \n",
      "30    8886025    9398.0       0.643541  \n",
      "31    2092741    2551.0       0.764014  \n",
      "32   19530351   91897.0       0.433387  \n",
      "33   10381615    9268.0       0.696051  \n",
      "34     758080     542.0       0.861624  \n",
      "35   11676341   10249.0       0.676066  \n",
      "36    3940235    3871.0       0.729269  \n",
      "37    4181886   14476.0       0.769481  \n",
      "38   12800922   13512.0       0.604130  \n",
      "39    1058287    1101.0       0.678474  \n",
      "40    5084156    3933.0       0.783626  \n",
      "41     878698    1159.0       0.721311  \n",
      "42    6771631    7883.0       0.778764  \n",
      "43   28628666   25310.0       0.758554  \n",
      "44    3153550    2876.0       0.662031  \n",
      "45     624358    1291.0       0.604183  \n",
      "46    8501286    5975.0       0.657406  \n",
      "47    7523869   22304.0       0.736370  \n",
      "48    1804291    1243.0       0.821400  \n",
      "49    5807406    4907.0       0.558386  \n",
      "50     577601     639.0       0.679186  \n"
     ]
    }
   ],
   "source": [
    "# Add total col as sum of individuals and family_members\n",
    "homelessness['total'] = homelessness['individuals'] + homelessness['family_members']\n",
    "\n",
    "# Add p_individuals col as proportion of individuals\n",
    "homelessness['p_individuals'] = homelessness['individuals'] / homelessness['total']\n",
    "\n",
    "# See the result\n",
    "print(homelessness)"
   ]
  },
  {
   "cell_type": "markdown",
   "metadata": {},
   "source": [
    "<div class=\"listview__content\"><div class=\"exercise--assignment exercise--typography\"><h1 class=\"exercise--title\">Combo-attack!</h1><div class=\"\">\n",
    "<p>You've seen the four most common types of data manipulation: sorting rows, subsetting columns, subsetting rows, and adding new columns. In a real-life data analysis, you can mix and match these four manipulations to answer a multitude of questions.</p>\n",
    "<p>In this exercise, you'll answer the question, \"Which state has the highest number of homeless individuals per 10,000 people in the state?\" Combine your new <code>pandas</code> skills to find out.</p></div></div></div>\n",
    "\n",
    "<h1>Instructions</h1>\n",
    "<div class=\"exercise--instructions exercise--typography\"><div class=\"exercise--instructions__content\"><ul>\n",
    "<li>Add a column to <code>homelessness</code>, <code>indiv_per_10k</code>, containing the number of homeless individuals per ten thousand people in each state.</li>\n",
    "<li>Subset rows where <code>indiv_per_10k</code> is higher than <code>20</code>, assigning to <code>high_homelessness</code>.</li>\n",
    "<li>Sort <code>high_homelessness</code> by descending <code>indiv_per_10k</code>, assigning to <code>high_homelessness_srt</code>.</li>\n",
    "<li>Select only the <code>state</code> and <code>indiv_per_10k</code> columns of <code>high_homelessness_srt</code> and save as <code>result</code>. <em>Look at the <code>result</code>.</em></li>\n",
    "</ul></div>"
   ]
  },
  {
   "cell_type": "code",
   "execution_count": 26,
   "metadata": {},
   "outputs": [
    {
     "name": "stdout",
     "output_type": "stream",
     "text": [
      "                   state  indiv_per_10k\n",
      "8   District of Columbia      53.738381\n",
      "11                Hawaii      29.079406\n",
      "4             California      27.623825\n",
      "37                Oregon      26.636307\n",
      "28                Nevada      23.314189\n",
      "47            Washington      21.829195\n",
      "32              New York      20.392363\n"
     ]
    }
   ],
   "source": [
    "# Create indiv_per_10k col as homeless individuals per 10k state pop\n",
    "homelessness[\"indiv_per_10k\"] = 10000 * homelessness['individuals'] / homelessness['state_pop'] \n",
    "\n",
    "# Subset rows for indiv_per_10k greater than 20\n",
    "high_homelessness = homelessness[homelessness[\"indiv_per_10k\"] > 20]\n",
    "\n",
    "# Sort high_homelessness by descending indiv_per_10k\n",
    "high_homelessness_srt = high_homelessness.sort_values('indiv_per_10k', ascending = False)\n",
    "\n",
    "# From high_homelessness_srt, select the state and indiv_per_10k cols\n",
    "result = high_homelessness_srt[['state', 'indiv_per_10k']]\n",
    "\n",
    "# See the result\n",
    "print(result)"
   ]
  }
 ],
 "metadata": {
  "direction": "ltr",
  "kernelspec": {
   "display_name": "Python 3 (ipykernel)",
   "language": "python",
   "name": "python3"
  },
  "language_info": {
   "codemirror_mode": {
    "name": "ipython",
    "version": 3
   },
   "file_extension": ".py",
   "mimetype": "text/x-python",
   "name": "python",
   "nbconvert_exporter": "python",
   "pygments_lexer": "ipython3",
   "version": "3.10.2"
  }
 },
 "nbformat": 4,
 "nbformat_minor": 2
}
