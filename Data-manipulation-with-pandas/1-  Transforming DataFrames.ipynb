{
 "cells": [
  {
   "cell_type": "markdown",
   "metadata": {},
   "source": [
    "<p>Hi, I'm Richie. I'll be your tour guide through the world of pandas.\n",
    "\n",
    "</p></div><div><h2 class=\"css-1sl3ts5\">2. What's the point of pandas?</h2><p>pandas is a Python package for data manipulation. It can also be used for data visualization; we'll get to that in Chapter 4.\n",
    "\n",
    "</p></div><div><h2 class=\"css-1sl3ts5\">3. Course outline</h2><p>We'll start by talking about DataFrames, which form the core of pandas.\n",
    "\n",
    "In chapter 2, we'll discuss aggregating data to gather insights.\n",
    "\n",
    "In chapter 3, you'll learn all about slicing and indexing to subset DataFrames.\n",
    "\n",
    "Finally, you'll visualize your data, deal with missing data, and read data into a DataFrame.\n",
    "\n",
    "Let's dive in.\n",
    "\n",
    "</p></div><div><h2 class=\"css-1sl3ts5\">4. pandas is built on NumPy and Matplotlib</h2><p>pandas is built on top of two essential Python packages, NumPy and Matplotlib. Numpy provides multidimensional array objects for easy data manipulation that pandas uses to store data, and Matplotlib has powerful data visualization capabilities that pandas takes advantage of.\n",
    "\n",
    "</p></div><div><h2 class=\"css-1sl3ts5\">5. pandas is popular</h2><p>pandas has millions of users, with PyPi recording about 14 million downloads in December 2019. This represents almost the entire Python data science community!\n",
    "\n",
    "</p><ol class=\"css-lsly4i\"><li><sup>1</sup> https://pypistats.org/packages/pandas</li></ol></div><div><h2 class=\"css-1sl3ts5\">6. Rectangular data</h2><p>There are several ways to store data for analysis, but rectangular data, sometimes called \"tabular data\" is the most common form. In this example, with dogs, each observation, or each dog, is a row, and each variable, or each dog property, is a column. pandas is designed to work with rectangular data like this.\n",
    "\n",
    "</p></div><div><h2 class=\"css-1sl3ts5\">7. pandas DataFrames</h2><p>In pandas, rectangular data is represented as a DataFrame object. Every programming language used for data analysis has something similar to this. R also has DataFrames, while SQL has database tables. Every value within a column has the same data type, either text or numeric, but different columns can contain different data types.\n",
    "\n",
    "</p></div><div><h2 class=\"css-1sl3ts5\">8. Exploring a DataFrame: .head()</h2><p>When you first receive a new dataset, you want to quickly explore it and get a sense of its contents. pandas has several methods for this. \n",
    "\n",
    "The first is head, which returns the first few rows of the DataFrame. We only had seven rows to begin with, so it's not super exciting, but this becomes very useful if you have many rows.\n",
    "\n",
    "</p></div><div><h2 class=\"css-1sl3ts5\">9. Exploring a DataFrame: .info()</h2><p>The info method displays the names of columns, the data types they contain, and whether they have any missing values.\n",
    "\n",
    "</p></div><div><h2 class=\"css-1sl3ts5\">10. Exploring a DataFrame: .shape</h2><p>A DataFrame's shape attribute contains a tuple that holds the number of rows followed by the number of columns. Since this is an attribute instead of a method, you write it without parentheses.\n",
    "\n",
    "</p></div><div><h2 class=\"css-1sl3ts5\">11. Exploring a DataFrame: .describe()</h2><p>The describe method computes some summary statistics for numerical columns, like mean and median. \"count\" is the number of non-missing values in each column. describe is good for a quick overview of numeric variables, but if you want more control, you'll see how to perform more specific calculations later in the course.\n",
    "\n",
    "</p></div><div><h2 class=\"css-1sl3ts5\">12. Components of a DataFrame: .values</h2><p>DataFrames consist of three different components, accessible using attributes.\n",
    "\n",
    "The values attribute, as you might expect, contains the data values in a 2-dimensional NumPy array.\n",
    "\n",
    "</p></div><div><h2 class=\"css-1sl3ts5\">13. Components of a DataFrame: .columns and .index</h2><p>The other two components of a DataFrame are labels for columns and rows. The columns attribute contains column names, and the index attribute contains row numbers or row names. Be careful, since row labels are stored in dot-index, not in dot-rows.\n",
    "\n",
    "Notice that these are Index objects, which we'll cover in Chapter 3. This allows for flexibility in labels. For example, the dogs data uses row numbers, but row names are also possible.\n",
    "\n",
    "</p></div><div><h2 class=\"css-1sl3ts5\">14. pandas Philosophy</h2><p>Python has a semi-official philosophy on how to write good code called The Zen of Python. One suggestion is that given a programming problem, there should only be one obvious solution. As you go through this course, bear in mind that pandas deliberately doesn't follow this philosophy. Instead, there are often multiple ways to solve a problem, leaving you to choose the best. \n",
    "\n",
    "In this respect, pandas is like a Swiss Army Knife, giving you a variety of tools, making it incredibly powerful, but more difficult to learn. In this course, we aim for a more streamlined approach to pandas, only covering the most important ways of doing things.\n",
    "\n",
    "</p><ol class=\"css-lsly4i\"><li><sup>1</sup> https://www.python.org/dev/peps/pep-0020/</li></ol></div><div><h2 class=\"css-1sl3ts5\">15. Let's practice!</h2><p>Enough meditating, time to write some code!\n",
    "\n",
    "</p></div></div></div></section></div><div class=\"Toastify\"></div></main>"
   ]
  },
  {
   "cell_type": "markdown",
   "metadata": {},
   "source": []
  }
 ],
 "metadata": {
  "kernelspec": {
   "display_name": "Python 3",
   "language": "python",
   "name": "python3"
  },
  "language_info": {
   "codemirror_mode": {
    "name": "ipython",
    "version": 3
   },
   "file_extension": ".py",
   "mimetype": "text/x-python",
   "name": "python",
   "nbconvert_exporter": "python",
   "pygments_lexer": "ipython3",
   "version": "3.7.3"
  }
 },
 "nbformat": 4,
 "nbformat_minor": 2
}
